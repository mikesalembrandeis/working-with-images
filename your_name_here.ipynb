{
 "cells": [
  {
   "cell_type": "markdown",
   "metadata": {},
   "source": [
    "# Assignment 4\n",
    "----\n",
    "\n",
    "Name : `<Your name here>`\n",
    "    \n",
    "email :  `<Your email here> `"
   ]
  },
  {
   "cell_type": "markdown",
   "metadata": {},
   "source": [
    "# Instructions\n",
    "----\n",
    "\n",
    "The purpose of this project is to familiarize yourself with packages required to perform image manipulation. This project will utilize `numpy` and students' choice of either/or/both `scipy`/`opencv`.  \n",
    "\n",
    "You are **not** allowed to rename any functions or modify the number of input parameters. **Failure to follow instructions will result in a 0 for the question.**\n",
    "\n",
    "### Any scratch work (testing, debugging, etc.) can be done at the bottom under the `Scratch` section or in other files. "
   ]
  },
  {
   "cell_type": "markdown",
   "metadata": {},
   "source": [
    "# Rubric\n",
    "----\n",
    "\n",
    "Every step is worth 1 point. If the solution produced is correct, the student will receive 1 point. If the solution is incorrect, the student will receive 0\n",
    "\n",
    "### Please keep your code and the expeccted output next to each other. If the two cells are **not** adjacent, you will receive a 0 for the question being asked. "
   ]
  },
  {
   "cell_type": "code",
   "execution_count": 1,
   "metadata": {},
   "outputs": [],
   "source": [
    "# Note: You do NOT need to add any packages. Everything you need is already installed in this notebook. Modifying these imports will result in a 0. \n",
    "import numpy as np\n",
    "import cv2\n",
    "from scipy import ndimage"
   ]
  },
  {
   "cell_type": "code",
   "execution_count": 72,
   "metadata": {},
   "outputs": [],
   "source": [
    "# TODO Write a function that analyzes the shape of an image:\n",
    "def imageshape(image: np.ndarray) -> tuple:\n",
    "    \"\"\" Takes in an image and gets the shape of the image back e.g. (rows, columns, channels)\"\"\""
   ]
  },
  {
   "cell_type": "code",
   "execution_count": 73,
   "metadata": {},
   "outputs": [],
   "source": [
    "# TODO Write a function that analyzes the number of pixels in an image:\n",
    "def numberOfPixels(image: np.ndarray) -> int:\n",
    "    \"\"\" This function returns the number of pixels in an image \"\"\""
   ]
  },
  {
   "cell_type": "code",
   "execution_count": 74,
   "metadata": {},
   "outputs": [],
   "source": [
    "# TODO Write a function that isolates the RED channel and returns this image:\n",
    "def get_red_channel(image: np.ndarray) -> np.ndarray:\n",
    "    \"\"\" Get the red image from a channel \"\"\""
   ]
  },
  {
   "cell_type": "code",
   "execution_count": 75,
   "metadata": {},
   "outputs": [],
   "source": [
    "# TODO Convert a color image into a monochrome image\n",
    "def color_to_monochrome(image: np.ndarray) -> np.ndarray:\n",
    "    \"\"\" Converts a color image (i.e. 3 channels) to a monochrome image (i.e 1 channel) \n",
    "        Do NOT select a single channel. You must utilize all three channels.\n",
    "    \"\"\""
   ]
  },
  {
   "cell_type": "code",
   "execution_count": 76,
   "metadata": {},
   "outputs": [],
   "source": [
    "def min_max_pixel(image: np.ndarray) -> tuple:\n",
    "    \"\"\" Get the min and max pixel value for a monochrome image (min, max)\"\"\""
   ]
  },
  {
   "cell_type": "code",
   "execution_count": 77,
   "metadata": {},
   "outputs": [],
   "source": [
    "# TODO Get the average pixel color of a black and white image\n",
    "def average_pixel(image: np.ndarray) -> int:\n",
    "    \"\"\" Gets the average pixel color of a monochrome image. .5 should be rounded up \"\"\""
   ]
  },
  {
   "cell_type": "code",
   "execution_count": 97,
   "metadata": {},
   "outputs": [],
   "source": [
    "# TODO \n",
    "def median_pixel(image: np.ndarray) -> int:\n",
    "    \"\"\" Get the median pixel value of a monochrome image. Do NOT hardcode the index. For float values round down.\"\"\""
   ]
  },
  {
   "cell_type": "code",
   "execution_count": 79,
   "metadata": {},
   "outputs": [],
   "source": [
    "def flip_vertical(image: np.ndarray) -> np.ndarray:\n",
    "    \"\"\" Flip the image vertically (ie. top is the bottom and the bottom is the top)\"\"\""
   ]
  },
  {
   "cell_type": "code",
   "execution_count": 80,
   "metadata": {},
   "outputs": [],
   "source": [
    "def rotate(image: np.ndarray) -> np.ndarray:\n",
    "    \"\"\" Rotate an image 90 degrees clockwise \"\"\""
   ]
  },
  {
   "cell_type": "code",
   "execution_count": 99,
   "metadata": {},
   "outputs": [],
   "source": [
    "def select_subset(image: np.ndarray, row_start: int, row_end: int, column_start: int, column_end: int) -> np.ndarray:\n",
    "    \"\"\" Gets a subsection of a monochrome image (0,0) is top left \"\"\""
   ]
  },
  {
   "cell_type": "code",
   "execution_count": 82,
   "metadata": {},
   "outputs": [],
   "source": [
    "def covert_black_white(image: np.ndarray) -> np.ndarray:\n",
    "    \"\"\" Converts a monochrome image to black and white  \n",
    "        Pixel values over 128 are white, values less than or equal to are black\n",
    "        Do NOT use any thresholding functions from OpenCV\n",
    "    \"\"\""
   ]
  },
  {
   "cell_type": "code",
   "execution_count": 83,
   "metadata": {},
   "outputs": [],
   "source": [
    "def resize_image(image: np.ndarray, width_percent: float, height_percent: float) -> np.ndarray:\n",
    "    \"\"\" Resizes an image based on a given height / width percent\n",
    "    \"\"\""
   ]
  },
  {
   "cell_type": "code",
   "execution_count": 138,
   "metadata": {},
   "outputs": [],
   "source": [
    "def pad_image(image: np.ndarray, border_size: int) -> np.ndarray:\n",
    "    \"\"\"Pads a monochrome image with a black boarder of border_size on all sides\"\"\"\n"
   ]
  },
  {
   "cell_type": "code",
   "execution_count": 180,
   "metadata": {},
   "outputs": [],
   "source": [
    "def calculate_x_gradient(image: np.ndarray) -> np.ndarray:\n",
    "    \"\"\"Calculate the gradient in the x direction (left to right) for a monochrome image. \n",
    "       You will need to pad the image on the right for the last column to do your calculation\n",
    "       but your final image size/shape should be the same as the original image.\n",
    "       You will need to renormalize the pixels from 0 to 255 once you are finished.\n",
    "       Note : make sure to cast as int. Do *not* use round\n",
    "    \"\"\""
   ]
  },
  {
   "cell_type": "code",
   "execution_count": 184,
   "metadata": {},
   "outputs": [],
   "source": [
    "def calculate_y_gradient(image: np.ndarray) -> np.ndarray:\n",
    "    \"\"\"Calculate the gradient in the y direction (top to bottom) for a monochrome image. \n",
    "       You will need to pad the image on the bottom for the last row to do your calculation\n",
    "       but your final image size/shape should be the same as the original image.\n",
    "       You will need to renormalize the pixels from 0 to 255 once you are finished.\n",
    "       Note : make sure to cast as int. Do *not* use round\n",
    "    \"\"\"    "
   ]
  },
  {
   "cell_type": "markdown",
   "metadata": {},
   "source": [
    "# Evaluation\n",
    "Do **not** modify any of the code other this line. You may add code in the section under Scratch for  your testing"
   ]
  },
  {
   "cell_type": "code",
   "execution_count": 194,
   "metadata": {},
   "outputs": [
    {
     "name": "stdout",
     "output_type": "stream",
     "text": [
      "Total Passed: 15\n",
      "Score: 100.0\n"
     ]
    }
   ],
   "source": [
    "# Read in image\n",
    "img = cv2.imread('./test_img/brandeis-sign.jpg')\n",
    "total_passed = 0\n",
    "\n",
    "# Image Shape\n",
    "try:\n",
    "    assert(imageshape(img) == (640, 960, 3))\n",
    "    total_passed += 1\n",
    "except:\n",
    "    pass\n",
    "\n",
    "# Number of Pixels\n",
    "try:\n",
    "    assert(numberOfPixels(img) == 1843200)\n",
    "    total_passed += 1\n",
    "except:\n",
    "    pass\n",
    "\n",
    "try:\n",
    "    red_test = cv2.imread(\"./test_img/red_channel.png\", cv2.IMREAD_UNCHANGED)\n",
    "    np.testing.assert_array_equal(get_red_channel(img), red_test)\n",
    "    total_passed += 1\n",
    "except:\n",
    "    pass\n",
    "\n",
    "try:\n",
    "    img_mono = color_to_monochrome(img)\n",
    "    test_image = cv2.imread(\"./test_img/monochrome.png\", cv2.IMREAD_UNCHANGED)\n",
    "    np.testing.assert_array_equal(img_mono, test_image)\n",
    "    total_passed += 1\n",
    "except:\n",
    "    pass\n",
    "\n",
    "try:\n",
    "    assert(min_max_pixel(img_mono) == (0,255))\n",
    "    total_passed += 1\n",
    "except:\n",
    "    pass\n",
    "\n",
    "try:\n",
    "    assert(average_pixel(img_mono) == 119)\n",
    "    total_passed += 1\n",
    "except:\n",
    "    pass\n",
    "\n",
    "try:\n",
    "    assert(median_pixel(img_mono) == 126)\n",
    "    total_passed += 1\n",
    "except:\n",
    "    pass\n",
    "\n",
    "try:\n",
    "    test_image = cv2.imread(\"./test_img/flipped.png\", cv2.IMREAD_UNCHANGED)\n",
    "    np.testing.assert_array_equal(flip_vertical(img), test_image)\n",
    "    total_passed += 1\n",
    "except:\n",
    "    pass\n",
    "\n",
    "try:\n",
    "    test_image = cv2.imread(\"./test_img/rotated.png\", cv2.IMREAD_UNCHANGED)\n",
    "    np.testing.assert_array_equal(rotate(img), test_image)\n",
    "    total_passed += 1\n",
    "except:\n",
    "    pass\n",
    "\n",
    "\n",
    "try:\n",
    "    test_image = cv2.imread(\"./test_img/subset.png\", cv2.IMREAD_UNCHANGED)\n",
    "    np.testing.assert_array_equal(select_subset(img_mono, 21, 199, 206, 505), test_image)\n",
    "    total_passed += 1\n",
    "except:\n",
    "    pass\n",
    "\n",
    "try:\n",
    "    test_image = cv2.imread(\"./test_img/black_white.png\", cv2.IMREAD_UNCHANGED)\n",
    "    np.testing.assert_array_equal(covert_black_white(img_mono), test_image)\n",
    "    total_passed += 1\n",
    "except:\n",
    "    pass\n",
    "\n",
    "try:\n",
    "    test_image = cv2.imread(\"./test_img/resize.png\", cv2.IMREAD_UNCHANGED)\n",
    "    np.testing.assert_array_equal(resize_image(img, 35, 45), test_image)\n",
    "    total_passed += 1\n",
    "except:\n",
    "    pass\n",
    "\n",
    "try:\n",
    "    test_image = cv2.imread(\"./test_img/padded.png\", cv2.IMREAD_UNCHANGED)\n",
    "    np.testing.assert_array_equal(pad_image(img_mono,  25), test_image)\n",
    "    total_passed += 1\n",
    "except:\n",
    "    pass\n",
    "\n",
    "try:\n",
    "    test_image = cv2.imread(\"./test_img/grad_x.png\", cv2.IMREAD_UNCHANGED)\n",
    "    np.testing.assert_array_equal(calculate_x_gradient(img_mono), test_image)\n",
    "    total_passed += 1\n",
    "except:\n",
    "    pass\n",
    "\n",
    "try:\n",
    "    test_image = cv2.imread(\"./test_img/grad_y.png\", cv2.IMREAD_UNCHANGED)\n",
    "    np.testing.assert_array_equal(calculate_y_gradient(img_mono), test_image)\n",
    "    total_passed += 1\n",
    "except:\n",
    "    pass\n",
    "\n",
    "print(\"Total Passed:\", total_passed)\n",
    "print(\"Score:\", total_passed/15 * 100)"
   ]
  },
  {
   "cell_type": "markdown",
   "metadata": {},
   "source": [
    "# Scratch\n",
    "Use this section for any scratch work you want to try"
   ]
  }
 ],
 "metadata": {
  "kernelspec": {
   "display_name": "Python 3",
   "language": "python",
   "name": "python3"
  },
  "language_info": {
   "codemirror_mode": {
    "name": "ipython",
    "version": 3
   },
   "file_extension": ".py",
   "mimetype": "text/x-python",
   "name": "python",
   "nbconvert_exporter": "python",
   "pygments_lexer": "ipython3",
   "version": "3.9.1"
  }
 },
 "nbformat": 4,
 "nbformat_minor": 2
}
